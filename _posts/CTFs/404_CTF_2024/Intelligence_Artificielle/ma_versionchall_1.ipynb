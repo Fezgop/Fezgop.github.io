{
  "cells": [
    {
      "cell_type": "code",
      "source": [
        "!unzip sample_data/404CTF-2024-Intelligence-artificielle-main.zip"
      ],
      "metadata": {
        "id": "eu8yPaOvrzk4"
      },
      "id": "eu8yPaOvrzk4",
      "execution_count": 77,
      "outputs": []
    },
    {
      "cell_type": "code",
      "execution_count": 47,
      "id": "initial_id",
      "metadata": {
        "collapsed": true,
        "ExecuteTime": {
          "end_time": "2024-04-25T18:50:42.323321Z",
          "start_time": "2024-04-25T18:50:39.724423Z"
        },
        "id": "initial_id"
      },
      "outputs": [],
      "source": [
        "import sys\n",
        "sys.path.insert(1, '/content/404CTF-2024-Intelligence-artificielle-main/')\n",
        "from fl.preprocessing import load_mnist, data_to_client\n",
        "from fl.model import NN, train_and_test\n",
        "from fl.utils import plot_train_and_test, weights_to_json\n",
        "from fl.federated_learning import federated"
      ]
    },
    {
      "cell_type": "markdown",
      "source": [
        "# Challenge 1 : Du poison [1/2]\n",
        "\n",
        "Ces deux challenges visent à présenter la technique de *federated learning*, ainsi que les potentiels dangers à prendre en compte.\n",
        "\n",
        "![du_poison.jpg](https://i.imgflip.com/8nfipd.jpg)\n",
        "\n",
        "*Cette suite de challenges est accompagnée de fonctions utilitaires du module `fl`. Tout est dans le `.zip` donné en énoncé.*\n",
        "\n",
        "## L'apprentissage fédéré\n",
        "\n",
        "Parfois, au lieu de faire tout l'entraînement d'un coup depuis une unique base de donnée, l'on préfère entraîner **plusieurs versions du modèle** sur des données variées et potentiellement décentralisées. C'est le cas par exemple des algorithmes de recommandation qui vont s'entraîner directement sur les machines des utilisateurs, pour ensuite **s'agréger dans un serveur commun.**\n",
        "\n",
        "### Exemple d'application dans laquelle on se place\n",
        "Le serveur central créé un modèle de base, il enregistre ses poids et les envoie à tous les clients (les poids de base sont disponibles ici : `weights/base_fl.weights.h5`). Dans notre cas, il y a cinq clients, et vous êtes un des cinq clients. Chaque client entraîne le modèle de son côté, avec ses propres données (représentées dans notre simulation par `x_clients, y_clients`), puis envoie ses résultats, les poids, au serveur. Le serveur s'occupe alors d'agréger les poids en faisant une moyenne sur tous les clients. Il produit ainsi une nouvelle version du modèle commun, qu'il va pouvoir redistribuer et ainsi de suite.\n",
        "\n",
        "Imaginons que le modèle de base possède les poids :\n",
        "$$\n",
        "M_1 = \\{W_1, b_1, W_2, b_2, W_3, b_3, W_4, b_4\\}\n",
        "$$\n",
        "*(ici, j'ai pris les notations couramment utilisées, $W$ pour *weights* et $b$ pour *biases*, tout est considéré comme un \"poids\" quand on code)*\n",
        "\n",
        "Ensuite, chaque client entraîne le modèle sur son propre jeu de donnée, ce qui va faire évoluer les poids locaux :\n",
        "$$\n",
        "i \\in \\llbracket1, \\text{nb_client}\\rrbracket, \\quad M_1^{(i)} = \\{W_1 + \\delta W_1^{(i)}, b_1 + \\delta b_1^{(i)}, W_2 + \\delta W_2^{(i)}, b_2 + \\delta b_2^{(i)}, W_3 + \\delta W_3^{(i)}, b_3 + \\delta b_3^{(i)}, W_4 + \\delta W_4^{(i)}, b_4 + \\delta b_4^{(i)}\\} = \\{W_1^{(i)}, b_1^{(i)}, W_2^{(i)}, b_2^{(i)}, W_3^{(i)}, b_3^{(i)}, W_4^{(i)}, b_4^{(i)}\\}\n",
        "$$\n",
        "\n",
        "Les clients envoient leurs poids au serveur qui les agrège pour faire une nouvelle version du modèle commun :\n",
        "$$\n",
        "M_2 = \\left\\{\\sum_{i=1}^{\\text{nb_clients}} W_1^{(i)}, \\sum_{i=1}^{\\text{nb_clients}} b_1^{(i)}, \\sum_{i=1}^{\\text{nb_clients}} W_2^{(i)}, \\sum_{i=1}^{\\text{nb_clients}} b_2^{(i)}, \\sum_{i=1}^{\\text{nb_clients}} W_3^{(i)}, \\sum_{i=1}^{\\text{nb_clients}} b_3^{(i)}, \\sum_{i=1}^{\\text{nb_clients}} W_4^{(i)}, \\sum_{i=1}^{\\text{nb_clients}} b_4^{(i)}\\right\\}\n",
        "$$\n",
        "et ainsi de suite.\n",
        "\n",
        "Pour visualiser tout ça et pour potentiellement faire vos tests, je vous ai donné la fonction **coté serveur** qui s'occupe d'agréger les poids. C'est `federated`, et en fait, elle fait toute la simulation. Elle entraîne les cinq clients de leurs côtés puis agrège leurs poids. Voici un exemple :\n",
        "\n",
        "On commence d'abord par récupérer les données :"
      ],
      "metadata": {
        "collapsed": false,
        "id": "f8e2b1ff8e348e77"
      },
      "id": "f8e2b1ff8e348e77"
    },
    {
      "cell_type": "code",
      "outputs": [],
      "source": [
        "fl_iterations = 5\n",
        "client_epochs = 1\n",
        "nb_clients = 5\n",
        "\n",
        "x_train, y_train, x_test, y_test = load_mnist()\n",
        "x_clients, y_clients = data_to_client(x_train, y_train, nb_clients=nb_clients)      # Simule le fait que les clients ont des jeux de données différents"
      ],
      "metadata": {
        "ExecuteTime": {
          "end_time": "2024-04-25T18:50:42.608084Z",
          "start_time": "2024-04-25T18:50:42.324564Z"
        },
        "id": "230f2fa10c61d992"
      },
      "id": "230f2fa10c61d992",
      "execution_count": 48
    },
    {
      "cell_type": "markdown",
      "source": [
        "Tout le processus de l'apprentissage fédéré est contenu dans la fonction `federated` :"
      ],
      "metadata": {
        "collapsed": false,
        "id": "fcc833fa368057d1"
      },
      "id": "fcc833fa368057d1"
    },
    {
      "cell_type": "code",
      "outputs": [
        {
          "output_type": "stream",
          "name": "stdout",
          "text": [
            "Federated learning iteration: 1\n",
            "Client 0:\n",
            "63/63 [==============================] - 0s 5ms/step\n",
            "Client 1:\n",
            "63/63 [==============================] - 0s 6ms/step\n",
            "Client 2:\n",
            "63/63 [==============================] - 0s 5ms/step\n",
            "Client 3:\n",
            "63/63 [==============================] - 0s 6ms/step\n",
            "Client 4:\n",
            "63/63 [==============================] - 0s 5ms/step\n",
            "63/63 [==============================] - 0s 7ms/step\n",
            "Federated Accuracy: 0.923\n",
            "Federated learning iteration: 2\n",
            "Client 0:\n",
            "63/63 [==============================] - 0s 6ms/step\n",
            "Client 1:\n",
            "63/63 [==============================] - 0s 5ms/step\n",
            "Client 2:\n",
            "63/63 [==============================] - 0s 6ms/step\n",
            "Client 3:\n",
            "63/63 [==============================] - 0s 6ms/step\n",
            "Client 4:\n",
            "63/63 [==============================] - 0s 5ms/step\n",
            "63/63 [==============================] - 0s 5ms/step\n",
            "Federated Accuracy: 0.932\n",
            "Federated learning iteration: 3\n",
            "Client 0:\n",
            "63/63 [==============================] - 0s 5ms/step\n",
            "Client 1:\n",
            "63/63 [==============================] - 0s 5ms/step\n",
            "Client 2:\n",
            "63/63 [==============================] - 0s 7ms/step\n",
            "Client 3:\n",
            "63/63 [==============================] - 0s 6ms/step\n",
            "Client 4:\n",
            "63/63 [==============================] - 1s 11ms/step\n",
            "63/63 [==============================] - 1s 8ms/step\n",
            "Federated Accuracy: 0.938\n",
            "Federated learning iteration: 4\n",
            "Client 0:\n",
            "63/63 [==============================] - 0s 5ms/step\n",
            "Client 1:\n",
            "63/63 [==============================] - 0s 5ms/step\n",
            "Client 2:\n",
            "63/63 [==============================] - 1s 9ms/step\n",
            "Client 3:\n",
            "63/63 [==============================] - 0s 6ms/step\n",
            "Client 4:\n",
            "63/63 [==============================] - 0s 7ms/step\n",
            "63/63 [==============================] - 0s 6ms/step\n",
            "Federated Accuracy: 0.940\n",
            "Federated learning iteration: 5\n",
            "Client 0:\n",
            "63/63 [==============================] - 1s 10ms/step\n",
            "Client 1:\n",
            "63/63 [==============================] - 0s 6ms/step\n",
            "Client 2:\n",
            "63/63 [==============================] - 0s 6ms/step\n",
            "Client 3:\n",
            "63/63 [==============================] - 1s 7ms/step\n",
            "Client 4:\n",
            "63/63 [==============================] - 0s 7ms/step\n",
            "63/63 [==============================] - 0s 7ms/step\n",
            "Federated Accuracy: 0.947\n"
          ]
        }
      ],
      "source": [
        "federated_learning = federated(\n",
        "    NN(),\n",
        "    x_clients,\n",
        "    y_clients,\n",
        "    x_test,                             # Le serveur valide les résultats sur un seul et même jeu de test\n",
        "    y_test,\n",
        "    fl_iterations=fl_iterations,        # On ne simule qu'une itération de l'apprentissage fédéré (M_1 -> M_2).\n",
        "    client_epochs=client_epochs\n",
        ")"
      ],
      "metadata": {
        "ExecuteTime": {
          "end_time": "2024-04-25T18:51:40.366471Z",
          "start_time": "2024-04-25T18:50:42.608926Z"
        },
        "id": "f5344eda11205e90",
        "outputId": "2b9b540f-22da-4d51-d462-196766219435",
        "colab": {
          "base_uri": "https://localhost:8080/"
        }
      },
      "id": "f5344eda11205e90",
      "execution_count": 49
    },
    {
      "cell_type": "markdown",
      "source": [
        "On peut ensuite afficher les résultats :"
      ],
      "metadata": {
        "collapsed": false,
        "id": "9981a61b9058bca3"
      },
      "id": "9981a61b9058bca3"
    },
    {
      "cell_type": "code",
      "outputs": [
        {
          "output_type": "display_data",
          "data": {
            "text/plain": [
              "<Figure size 1000x1000 with 1 Axes>"
            ],
            "image/png": "[encoded data removed]"
          },
          "metadata": {}
        }
      ],
      "source": [
        "history = federated_learning[\"history_acc\"]\n",
        "plot_train_and_test([history], [\"FL\"], fl_iterations)"
      ],
      "metadata": {
        "ExecuteTime": {
          "end_time": "2024-04-25T18:51:40.486875Z",
          "start_time": "2024-04-25T18:51:40.368254Z"
        },
        "id": "69e9d24362b051d7",
        "outputId": "81b4c41e-e072-41df-e5e7-4ffab86d1896",
        "colab": {
          "base_uri": "https://localhost:8080/",
          "height": 850
        }
      },
      "id": "69e9d24362b051d7",
      "execution_count": 50
    },
    {
      "cell_type": "markdown",
      "source": [
        "## De votre côté\n",
        "\n",
        "De votre côté, vous n'avez pas besoin de simuler les 4 autres clients, vous n'avez qu'à vous occuper de votre version du modèle commun.\n",
        "\n",
        "Tout d'abord, il faut récupérer les poids et reprendre la structure du modèle commun $\\left(W_1, b_1, W_2, b_2, W_3, b_3\\right)$ :"
      ],
      "metadata": {
        "collapsed": false,
        "id": "ddc45b2898f931a"
      },
      "id": "ddc45b2898f931a"
    },
    {
      "cell_type": "code",
      "outputs": [],
      "source": [
        "model_base = NN()\n",
        "model_base.load_weights(\"./404CTF-2024-Intelligence-artificielle-main/weights/base_fl.weights.h5\")"
      ],
      "metadata": {
        "ExecuteTime": {
          "end_time": "2024-04-25T18:51:40.543585Z",
          "start_time": "2024-04-25T18:51:40.487972Z"
        },
        "id": "129497a250da23d6"
      },
      "id": "129497a250da23d6",
      "execution_count": 51
    },
    {
      "cell_type": "markdown",
      "source": [
        "Ensuite, on peut améliorer le modèle localement :"
      ],
      "metadata": {
        "collapsed": false,
        "id": "ed927c3fb9c937f4"
      },
      "id": "ed927c3fb9c937f4"
    },
    {
      "cell_type": "code",
      "outputs": [
        {
          "output_type": "stream",
          "name": "stdout",
          "text": [
            "63/63 [==============================] - 0s 6ms/step\n",
            "Accuracy of the model: 0.124\n"
          ]
        },
        {
          "output_type": "display_data",
          "data": {
            "text/plain": [
              "<Figure size 1000x1000 with 1 Axes>"
            ],
            "image/png": "[encoded data removed]"
          },
          "metadata": {}
        }
      ],
      "source": [
        "\n",
        "import numpy as np\n",
        "# Set random seed for reproducibility\n",
        "np.random.seed(42)\n",
        "tf.random.set_seed(42)\n",
        "\n",
        "# Access the initial weights of the model\n",
        "initial_weights = model_base.get_weights()\n",
        "\n",
        "# Modify the weights (for demonstration, we'll add noise to the weights)\n",
        "modified_weights = [w + 10000*np.random.normal(loc=0.0, scale=0.1, size=w.shape) for w in initial_weights]\n",
        "\n",
        "# Set the modified weights back to the model\n",
        "model_base.set_weights(modified_weights)\n",
        "\n",
        "local_epochs = 5\n",
        "\n",
        "local_results = train_and_test(\n",
        "    model_base,\n",
        "    x_train,        # Vous pouvez entraîner votre modèle local sur toutes les données, sur ce que vous souhaitez en fait, c'est justement le principe.\n",
        "    y_train,\n",
        "    x_test,\n",
        "    y_test,\n",
        "    epochs=local_epochs\n",
        ")\n",
        "plot_train_and_test([local_results[\"history\"].history[\"val_accuracy\"]], [\"Entraînement local\"], epochs=local_epochs)"
      ],
      "metadata": {
        "ExecuteTime": {
          "end_time": "2024-04-25T18:51:48.419167Z",
          "start_time": "2024-04-25T18:51:40.544637Z"
        },
        "id": "70a60a2d7f84a8ac",
        "outputId": "f3b57d72-b919-4692-fccb-cc855bf583f3",
        "colab": {
          "base_uri": "https://localhost:8080/",
          "height": 885
        }
      },
      "id": "70a60a2d7f84a8ac",
      "execution_count": 72
    },
    {
      "cell_type": "markdown",
      "source": [
        "Votre modèle local entraîné est disponible ici :"
      ],
      "metadata": {
        "collapsed": false,
        "id": "6b631215612dad19"
      },
      "id": "6b631215612dad19"
    },
    {
      "cell_type": "code",
      "outputs": [
        {
          "output_type": "execute_result",
          "data": {
            "text/plain": [
              "fl.model.NN"
            ],
            "text/html": [
              "<div style=\"max-width:800px; border: 1px solid var(--colab-border-color);\"><style>\n",
              "      pre.function-repr-contents {\n",
              "        overflow-x: auto;\n",
              "        padding: 8px 12px;\n",
              "        max-height: 500px;\n",
              "      }\n",
              "\n",
              "      pre.function-repr-contents.function-repr-contents-collapsed {\n",
              "        cursor: pointer;\n",
              "        max-height: 100px;\n",
              "      }\n",
              "    </style>\n",
              "    <pre style=\"white-space: initial; background:\n",
              "         var(--colab-secondary-surface-color); padding: 8px 12px;\n",
              "         border-bottom: 1px solid var(--colab-border-color);\"><b>fl.model.NN</b><br/>def error_handler(*args, **kwargs)</pre><pre class=\"function-repr-contents function-repr-contents-collapsed\" style=\"\"><a class=\"filepath\" style=\"display:none\" href=\"#\">/content/404CTF-2024-Intelligence-artificielle-main/fl/model.py</a>`Sequential` groups a linear stack of layers into a `tf.keras.Model`.\n",
              "\n",
              "`Sequential` provides training and inference features on this model.\n",
              "\n",
              "Examples:\n",
              "\n",
              "```python\n",
              "model = tf.keras.Sequential()\n",
              "model.add(tf.keras.Input(shape=(16,)))\n",
              "model.add(tf.keras.layers.Dense(8))\n",
              "\n",
              "# Note that you can also omit the initial `Input`.\n",
              "# In that case the model doesn&#x27;t have any weights until the first call\n",
              "# to a training/evaluation method (since it isn&#x27;t yet built):\n",
              "model = tf.keras.Sequential()\n",
              "model.add(tf.keras.layers.Dense(8))\n",
              "model.add(tf.keras.layers.Dense(4))\n",
              "# model.weights not created yet\n",
              "\n",
              "# Whereas if you specify an `Input`, the model gets built\n",
              "# continuously as you are adding layers:\n",
              "model = tf.keras.Sequential()\n",
              "model.add(tf.keras.Input(shape=(16,)))\n",
              "model.add(tf.keras.layers.Dense(4))\n",
              "len(model.weights)\n",
              "# Returns &quot;2&quot;\n",
              "\n",
              "# When using the delayed-build pattern (no input shape specified), you can\n",
              "# choose to manually build your model by calling\n",
              "# `build(batch_input_shape)`:\n",
              "model = tf.keras.Sequential()\n",
              "model.add(tf.keras.layers.Dense(8))\n",
              "model.add(tf.keras.layers.Dense(4))\n",
              "model.build((None, 16))\n",
              "len(model.weights)\n",
              "# Returns &quot;4&quot;\n",
              "\n",
              "# Note that when using the delayed-build pattern (no input shape specified),\n",
              "# the model gets built the first time you call `fit`, `eval`, or `predict`,\n",
              "# or the first time you call the model on some input data.\n",
              "model = tf.keras.Sequential()\n",
              "model.add(tf.keras.layers.Dense(8))\n",
              "model.add(tf.keras.layers.Dense(1))\n",
              "model.compile(optimizer=&#x27;sgd&#x27;, loss=&#x27;mse&#x27;)\n",
              "# This builds the model for the first time:\n",
              "model.fit(x, y, batch_size=32, epochs=10)\n",
              "```</pre>\n",
              "      <script>\n",
              "      if (google.colab.kernel.accessAllowed && google.colab.files && google.colab.files.view) {\n",
              "        for (const element of document.querySelectorAll('.filepath')) {\n",
              "          element.style.display = 'block'\n",
              "          element.onclick = (event) => {\n",
              "            event.preventDefault();\n",
              "            event.stopPropagation();\n",
              "            google.colab.files.view(element.textContent, 9);\n",
              "          };\n",
              "        }\n",
              "      }\n",
              "      for (const element of document.querySelectorAll('.function-repr-contents')) {\n",
              "        element.onclick = (event) => {\n",
              "          event.preventDefault();\n",
              "          event.stopPropagation();\n",
              "          element.classList.toggle('function-repr-contents-collapsed');\n",
              "        };\n",
              "      }\n",
              "      </script>\n",
              "      </div>"
            ]
          },
          "metadata": {},
          "execution_count": 73
        }
      ],
      "source": [
        "type(local_results[\"model\"])"
      ],
      "metadata": {
        "ExecuteTime": {
          "end_time": "2024-04-25T18:51:48.422940Z",
          "start_time": "2024-04-25T18:51:48.419983Z"
        },
        "id": "ff697e12626469c3",
        "outputId": "2de76820-49d9-48de-edff-9db705808a79",
        "colab": {
          "base_uri": "https://localhost:8080/",
          "height": 187
        }
      },
      "id": "ff697e12626469c3",
      "execution_count": 73
    },
    {
      "cell_type": "markdown",
      "source": [
        "Et ses poids sont directement disponibles ici :"
      ],
      "metadata": {
        "collapsed": false,
        "id": "f5c70f8375fed58f"
      },
      "id": "f5c70f8375fed58f"
    },
    {
      "cell_type": "code",
      "outputs": [
        {
          "output_type": "stream",
          "name": "stdout",
          "text": [
            "\n",
            "Nombre de couches : 8\n",
            "Taille de W1 : (784, 1000)\n",
            "Taille de b1 : (1000,)\n",
            "Taille de W2 : (1000, 700)\n",
            "Taille de b2 : (700,)\n",
            "Taille de W3 : (700, 500)\n",
            "Taille de b3 : (500,)\n",
            "Taille de b3 : (500, 10)\n",
            "Taille de b3 : (10,)\n",
            "\n"
          ]
        }
      ],
      "source": [
        "print(f\"\"\"\n",
        "Nombre de couches : {len(local_results[\"weights\"])}\n",
        "Taille de W1 : {local_results[\"weights\"][0].shape}\n",
        "Taille de b1 : {local_results[\"weights\"][1].shape}\n",
        "Taille de W2 : {local_results[\"weights\"][2].shape}\n",
        "Taille de b2 : {local_results[\"weights\"][3].shape}\n",
        "Taille de W3 : {local_results[\"weights\"][4].shape}\n",
        "Taille de b3 : {local_results[\"weights\"][5].shape}\n",
        "Taille de b3 : {local_results[\"weights\"][6].shape}\n",
        "Taille de b3 : {local_results[\"weights\"][7].shape}\n",
        "\"\"\")"
      ],
      "metadata": {
        "ExecuteTime": {
          "end_time": "2024-04-25T18:51:48.432086Z",
          "start_time": "2024-04-25T18:51:48.424229Z"
        },
        "id": "de470fb7d1778727",
        "outputId": "90abc400-65ae-4c5e-c92d-77696d11523c",
        "colab": {
          "base_uri": "https://localhost:8080/"
        }
      },
      "id": "de470fb7d1778727",
      "execution_count": 74
    },
    {
      "cell_type": "markdown",
      "source": [
        "Il vous suffit alors de renvoyer vos poids au serveur :"
      ],
      "metadata": {
        "collapsed": false,
        "id": "6cf3e4840961fff9"
      },
      "id": "6cf3e4840961fff9"
    },
    {
      "cell_type": "code",
      "outputs": [
        {
          "output_type": "execute_result",
          "data": {
            "text/plain": [
              "{'message': 'Statut : en pleine forme !'}"
            ]
          },
          "metadata": {},
          "execution_count": 75
        }
      ],
      "source": [
        "import requests as rq\n",
        "\n",
        "URL = \"https://du-poison.challenges.404ctf.fr\"\n",
        "rq.get(URL + \"/healthcheck\").json()"
      ],
      "metadata": {
        "ExecuteTime": {
          "end_time": "2024-04-25T18:51:48.503191Z",
          "start_time": "2024-04-25T18:51:48.433032Z"
        },
        "id": "4a8020f9ab4b96b0",
        "outputId": "19f8bea4-705e-44f6-c4fc-b9ce33bf9dd8",
        "colab": {
          "base_uri": "https://localhost:8080/"
        }
      },
      "id": "4a8020f9ab4b96b0",
      "execution_count": 75
    },
    {
      "cell_type": "code",
      "outputs": [
        {
          "output_type": "execute_result",
          "data": {
            "text/plain": [
              "{'message': 'Bravo ! Voici le drapeau : 404CTF{0h___dU_P01sON}'}"
            ]
          },
          "metadata": {},
          "execution_count": 76
        }
      ],
      "source": [
        "d = weights_to_json(local_results[\"weights\"])\n",
        "# d = weights_to_json(model.get_weights())\n",
        "rq.post(URL + \"/challenges/1\", json=d).json()"
      ],
      "metadata": {
        "ExecuteTime": {
          "end_time": "2024-04-25T18:51:52.764340Z",
          "start_time": "2024-04-25T18:51:48.504533Z"
        },
        "id": "a6624e27d09b4458",
        "outputId": "c2c7f172-0f42-4ef7-d136-bad2f1fc1418",
        "colab": {
          "base_uri": "https://localhost:8080/"
        }
      },
      "id": "a6624e27d09b4458",
      "execution_count": 76
    },
    {
      "cell_type": "markdown",
      "source": [
        "## À vous de jouer !\n",
        "\n",
        "Vous représentez **un client sur 5**, trouvez un moyen d'empoisonner le modèle pour faire descendre la précision au plus bas !\n",
        "\n",
        "La structure du modèle doit rester la même, et vous n'avez pas accès aux paramètres `epochs, fl_iterations` codés directement coté serveur, il vous faut donc agir directement sur votre seul champ d'action : les poids !"
      ],
      "metadata": {
        "collapsed": false,
        "id": "e3f112c0dfe1d6d5"
      },
      "id": "e3f112c0dfe1d6d5"
    }
  ],
  "metadata": {
    "kernelspec": {
      "display_name": "Python 3",
      "language": "python",
      "name": "python3"
    },
    "language_info": {
      "codemirror_mode": {
        "name": "ipython",
        "version": 2
      },
      "file_extension": ".py",
      "mimetype": "text/x-python",
      "name": "python",
      "nbconvert_exporter": "python",
      "pygments_lexer": "ipython2",
      "version": "2.7.6"
    },
    "colab": {
      "provenance": []
    }
  },
  "nbformat": 4,
  "nbformat_minor": 5
}